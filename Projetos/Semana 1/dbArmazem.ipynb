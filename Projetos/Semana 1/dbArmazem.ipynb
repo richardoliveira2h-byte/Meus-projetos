{
  "nbformat": 4,
  "nbformat_minor": 0,
  "metadata": {
    "colab": {
      "provenance": [],
      "include_colab_link": true
    },
    "kernelspec": {
      "name": "python3",
      "display_name": "Python 3"
    },
    "language_info": {
      "name": "python"
    }
  },
  "cells": [
    {
      "cell_type": "markdown",
      "metadata": {
        "id": "view-in-github",
        "colab_type": "text"
      },
      "source": [
        "<a href=\"https://colab.research.google.com/github/Nicole-afk/projetos/blob/main/banco_de_dados_semana_1.ipynb\" target=\"_parent\"><img src=\"https://colab.research.google.com/assets/colab-badge.svg\" alt=\"Open In Colab\"/></a>"
      ]
    },
    {
      "cell_type": "code",
      "execution_count": null,
      "metadata": {
        "id": "rXwcFoDcq7fn"
      },
      "outputs": [],
      "source": [
        "import sqlite3\n",
        "\n",
        "\n",
        "conn = sqlite3.connect(\"recursos.db\")\n",
        "cursor = conn.cursor()\n",
        "cursor.execute(\"\"\"\n",
        "CREATE TABLE IF NOT EXISTS recursos(\n",
        "  id INTEGER PRIMARY KEY AUTOINCREMENT,\n",
        "  recurso TEXT NOT NULL,\n",
        "  quantidade INTEGER NOT NULL,\n",
        "  consumo INTEGER NOT NULL DEFAULT 0,\n",
        "  producao_diaria INTEGER NOT NULL DEFAULT 0\n",
        ")\n",
        "\"\"\")\n",
        "conn.commit()\n"
      ]
    },
    {
      "cell_type": "code",
      "source": [
        "dados = [\n",
        "\n",
        " ('Grao', 120, 24, 0),\n",
        "\n",
        " ('Madeira', 20, 5, 0),\n",
        "\n",
        " ('Erva',  30, 2, 2),\n",
        "\n",
        " ('Ferro', 70, 10, 30),\n",
        "\n",
        "]\n",
        "cursor.executemany(\"INSERT INTO recursos (recurso, quantidade, consumo, producao_diaria) VALUES (?, ?, ?, ?)\", dados)\n",
        "conn.commit()\n"
      ],
      "metadata": {
        "id": "P4GXqbmU0V4o"
      },
      "execution_count": null,
      "outputs": []
    },
    {
      "cell_type": "code",
      "source": [
        "cursor.execute(\"SELECT recurso, quantidade, consumo, producao_diaria FROM recursos\")\n",
        "\n",
        "resultados = cursor.fetchall()\n",
        "\n",
        "\n",
        "\n",
        "print(\"Recursos da vila:\")\n",
        "\n",
        "\n",
        "\n",
        "recursos_resultado = []\n",
        "\n",
        "\n",
        "\n",
        "for recursos, quantidade, consumo, producao_diaria in resultados:\n",
        "\n",
        "   saldo_diario = producao_diaria - consumo\n",
        "\n",
        "\n",
        "\n",
        "   if saldo_diario == 0:\n",
        "\n",
        "       duracao = 0\n",
        "\n",
        "   else:\n",
        "\n",
        "       duracao = round(quantidade / abs(saldo_diario), 2)\n",
        "\n",
        "\n",
        "\n",
        "   recursos_resultado.append((recursos, quantidade, consumo, producao_diaria, duracao))\n",
        "\n",
        "\n",
        "\n",
        "for recursos, quantidade, consumo, producao_diaria, duracao in recursos_resultado:\n",
        "\n",
        "   print(f\"{recursos}: Quantidade {quantidade}, Consumo Diario {consumo}, Produção {producao_diaria} ------- Duração: {duracao} dias\")\n",
        "\n",
        "\n",
        "\n"
      ],
      "metadata": {
        "id": "l7vnknnBWWR0",
        "colab": {
          "base_uri": "https://localhost:8080/"
        },
        "outputId": "9e549b71-3bbe-4a82-d220-ab9f13cafd16"
      },
      "execution_count": null,
      "outputs": [
        {
          "output_type": "stream",
          "name": "stdout",
          "text": [
            "Recursos da vila:\n",
            "Grao: Quantidade 120, Consumo Diario 24, Produção 0 ------- Duração: 5.0 dias\n",
            "Madeira: Quantidade 20, Consumo Diario 5, Produção 0 ------- Duração: 4.0 dias\n",
            "Erva: Quantidade 30, Consumo Diario 2, Produção 2 ------- Duração: 0 dias\n",
            "Ferro: Quantidade 70, Consumo Diario 10, Produção 30 ------- Duração: 3.5 dias\n"
          ]
        }
      ]
    }
  ]
}